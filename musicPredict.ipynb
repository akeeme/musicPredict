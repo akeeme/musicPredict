{
 "metadata": {
  "language_info": {
   "codemirror_mode": {
    "name": "ipython",
    "version": 3
   },
   "file_extension": ".py",
   "mimetype": "text/x-python",
   "name": "python",
   "nbconvert_exporter": "python",
   "pygments_lexer": "ipython3",
   "version": "3.8.5-final"
  },
  "orig_nbformat": 2,
  "kernelspec": {
   "name": "python3",
   "display_name": "Python 3",
   "language": "python"
  }
 },
 "nbformat": 4,
 "nbformat_minor": 2,
 "cells": [
  {
   "cell_type": "code",
   "execution_count": 13,
   "metadata": {},
   "outputs": [],
   "source": [
    "# program uses a made up data set to predict what music genre a person will like using their gender and age as arguments\n",
    "\n",
    "\n",
    "import pandas as pd #imports pandas\n",
    "from sklearn.tree import DecisionTreeClassifier #imports sklearn from machine learning library, implements decision tree algorithm\n",
    "from sklearn.model_selection import train_test_split #uses to easily split data set for traning and testing\n",
    "from sklearn import tree #exports decision tree in graphical format\n",
    "\n",
    "# from sklearn.metrics import accuracy_score #for accuracy score between 0-1\n",
    "import joblib #stores trained model , has methods for saving and loading models\n",
    "\n",
    "music_data = pd.read_csv('music.csv') #puts data set into variable music_data\n",
    "X = music_data.drop(columns=['genre']) #splits data set adds a new table from music_data without the genre column (input set)\n",
    "y = music_data['genre'] #splits data set adds a new table from music_data with only genre column (output set)\n",
    "\n",
    "# X_train, X_test, y_train, y_test = train_test_split(X, y, test_size=0.2)\n",
    "\n",
    "model = DecisionTreeClassifier() #creates model to train\n",
    "model.fit(X, y) #takes parameters for training data\n",
    "\n",
    "tree.export_graphviz(model, out_file='music-recommender.dot',\n",
    "                    feature_names=['age', 'gender'], #to see rules in nodes\n",
    "                    class_names=sorted(y.unique()), #displays class for each node\n",
    "                    label = 'all', #every node has labels\n",
    "                    rounded=True, #rounded corners for graph\n",
    "                    filled=True) #boxes/nodes are filled with a color\n",
    "\n",
    "# model = joblib.load('music-recommender.joblib') #uses joblib to make training easier\n",
    "\n",
    "# predictions = model.predict([[21,1]]) #uses arguments to create prediction\n",
    "\n",
    "\n",
    "# score = accuracy_score(y_test, predictions)\n",
    "\n",
    "\n"
   ]
  }
 ]
}